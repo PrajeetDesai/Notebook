{
 "cells": [
  {
   "cell_type": "markdown",
   "id": "405264a8-aa5a-4205-b9c3-930f691a3da3",
   "metadata": {},
   "source": [
    "<h1>Data Science EcoSystem</h1>"
   ]
  },
  {
   "cell_type": "markdown",
   "id": "277a0c40-0434-40b9-a085-8ebb298b49ed",
   "metadata": {},
   "source": [
    "In this notebook, Data Science Tools and Ecosystem are summarized."
   ]
  },
  {
   "cell_type": "markdown",
   "id": "03d985cb-68fc-46af-885f-99bfc361e00f",
   "metadata": {},
   "source": [
    "<h3>Some of the popular languages that Data Scientists use are: </h3>\n",
    "<ui>\n",
    "<li>python,</li>\n",
    "<li>R</li>\n",
    "<li>JAVA</li>\n",
    "<li>SQL</li>\n",
    "</ui>"
   ]
  },
  {
   "cell_type": "markdown",
   "id": "1da3523c-0baf-4454-b3da-3cb17f511148",
   "metadata": {},
   "source": [
    "<h3>Some of the commonly used libraries used by Data Scientists include:</h3>\n",
    "<li>Pandas</li>\n",
    "<li>numpy</li>\n",
    "<li>matplotlib</li>\n",
    "<li>Beautiful soup</li>"
   ]
  },
  {
   "cell_type": "markdown",
   "id": "8db0bea1-d81b-4169-ae47-0269b2be5c73",
   "metadata": {},
   "source": [
    "<h2>Table of data science tools</h2>"
   ]
  },
  {
   "cell_type": "markdown",
   "id": "4c3b038e-ea71-4ec1-b31e-3bbb524fcb13",
   "metadata": {},
   "source": [
    "|Tool | Discription |\n",
    "|-------------| ------ |\n",
    "|Python |General-purpose programming language |\n",
    "|Scikit-learn | Machine learning library for Python |\n",
    "|R |Statistical programming language |"
   ]
  },
  {
   "cell_type": "markdown",
   "id": "71009222-b800-4574-9589-ebaa06bc51b8",
   "metadata": {},
   "source": [
    "\n",
    "<h3>Below are a few examples of evaluating arithmetic expressions in Python</h3>\n",
    "<br />\n",
    "\n",
    "<li>Addition</li>\n",
    "<li>Subtraction:</li>\n",
    "<li>Division</li>\n",
    "<li>Multiplication</li>"
   ]
  },
  {
   "cell_type": "markdown",
   "id": "a245618f-7c0d-4dff-ad56-36e2a1706add",
   "metadata": {},
   "source": [
    "<h3>This will convert 200 minutes to hours by diving by 60</h3>"
   ]
  },
  {
   "cell_type": "code",
   "execution_count": 4,
   "id": "1c53e907-9c7a-4a89-babc-3f169ea4166d",
   "metadata": {},
   "outputs": [
    {
     "name": "stdout",
     "output_type": "stream",
     "text": [
      "3.3333333333333335\n"
     ]
    }
   ],
   "source": [
    "minutes = 200\n",
    "hours = minutes / 60\n",
    "print(hours)"
   ]
  },
  {
   "cell_type": "markdown",
   "id": "7c4cc3ad-4770-43e6-95cb-157f58db9ae2",
   "metadata": {},
   "source": [
    "<h3><b>Objectives:</b></h3>"
   ]
  },
  {
   "cell_type": "markdown",
   "id": "bb3d6108-fb5c-4b1a-bc06-0d8bbfcf9e09",
   "metadata": {},
   "source": [
    "<ul>List popular languages for Data Science</ul>\n",
    "<li>Python</li>\n",
    "<li>R</li>\n",
    "<li>Julia</li>\n",
    "<li>SQL</li>\n",
    "<li>JAVA</li>\n",
    "<li>Matlab</li>"
   ]
  },
  {
   "cell_type": "markdown",
   "id": "54d42200-e84e-49da-982a-df28c834ce80",
   "metadata": {},
   "source": [
    "<h2>Author</h2>\n",
    "Prajeet Desai"
   ]
  },
  {
   "cell_type": "code",
   "execution_count": null,
   "id": "6713a9ba-db3c-484e-89c0-aa1a5e1a0176",
   "metadata": {},
   "outputs": [],
   "source": []
  }
 ],
 "metadata": {
  "kernelspec": {
   "display_name": "Python 3 (ipykernel)",
   "language": "python",
   "name": "python3"
  },
  "language_info": {
   "codemirror_mode": {
    "name": "ipython",
    "version": 3
   },
   "file_extension": ".py",
   "mimetype": "text/x-python",
   "name": "python",
   "nbconvert_exporter": "python",
   "pygments_lexer": "ipython3",
   "version": "3.10.6"
  },
  "widgets": {
   "application/vnd.jupyter.widget-state+json": {
    "state": {},
    "version_major": 2,
    "version_minor": 0
   }
  }
 },
 "nbformat": 4,
 "nbformat_minor": 5
}
